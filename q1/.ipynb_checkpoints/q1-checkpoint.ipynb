{
 "cells": [
  {
   "cell_type": "code",
   "execution_count": 13,
   "id": "d4f92de1",
   "metadata": {},
   "outputs": [],
   "source": [
    "import numpy as np\n",
    "arr=np.arange(1,5).reshape(2,2)\n",
    "evalue,evector=np.linalg.eig(arr)\n",
    "arrdet=np.linalg.det(arr)\n",
    "vec1=np.arange(1,4)\n",
    "vec2=np.arange(4,7)\n",
    "cp=np.dot(vec1,vec2)\n",
    "A=np.array([[1,2,-2],[2,1,-5],[1,-4,1]])\n",
    "b=np.array([-15,-21,18]).reshape(3,1)\n",
    "x = np.linalg.inv(A).dot(b)\n"
   ]
  },
  {
   "cell_type": "code",
   "execution_count": 28,
   "id": "8815b866",
   "metadata": {},
   "outputs": [
    {
     "name": "stdout",
     "output_type": "stream",
     "text": [
      "Hello, World!\n",
      "Eigenvalues: [-0.37228132  5.37228132]\n",
      "Eigenvectors:\n",
      " [[-0.82456484 -0.41597356]\n",
      " [ 0.56576746 -0.90937671]]\n",
      "Determinant: -2\n",
      "Cross product: [-3  6 -3]\n",
      "Solution\n",
      ": [[-1.]\n",
      " [-4.]\n",
      " [ 3.]]\n"
     ]
    }
   ],
   "source": [
    "def main():\n",
    "\n",
    "    print(\"Hello, World!\")\n",
    "\n",
    " \n",
    "\n",
    "if __name__ == '__main__':\n",
    "\n",
    " \n",
    "\n",
    "    main()\n",
    "print('Eigenvalues: {}'.format(evalue))\n",
    "print('Eigenvectors:\\n {}'.format(evector))\n",
    "print('Determinant: {0:.0f}'.format(arrdet))\n",
    "print('Cross product: {}'.format(cp))\n",
    "print('Solution\\n: {}'.format(x))"
   ]
  },
  {
   "cell_type": "code",
   "execution_count": null,
   "id": "bbf40e72",
   "metadata": {},
   "outputs": [],
   "source": []
  }
 ],
 "metadata": {
  "kernelspec": {
   "display_name": "Python 3 (ipykernel)",
   "language": "python",
   "name": "python3"
  },
  "language_info": {
   "codemirror_mode": {
    "name": "ipython",
    "version": 3
   },
   "file_extension": ".py",
   "mimetype": "text/x-python",
   "name": "python",
   "nbconvert_exporter": "python",
   "pygments_lexer": "ipython3",
   "version": "3.9.13"
  }
 },
 "nbformat": 4,
 "nbformat_minor": 5
}
