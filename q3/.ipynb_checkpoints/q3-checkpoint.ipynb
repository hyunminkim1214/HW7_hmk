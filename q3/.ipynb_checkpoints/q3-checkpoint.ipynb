{
 "cells": [
  {
   "cell_type": "code",
   "execution_count": 3,
   "id": "649fba3e",
   "metadata": {},
   "outputs": [],
   "source": [
    "import pandas as pd\n",
    "import numpy as np\n",
    "arr=np.array([[1000,25],[280,120],[900,30]])\n",
    "df=pd.DataFrame(arr,index=['store1','store2','store3'],columns=['unit price','number'])"
   ]
  },
  {
   "cell_type": "code",
   "execution_count": 10,
   "id": "7efab90c",
   "metadata": {},
   "outputs": [
    {
     "name": "stdout",
     "output_type": "stream",
     "text": [
      "Hello, World!\n",
      "        unit price  number  total\n",
      "store1        1000      25  25000\n",
      "store2         280     120  33600\n",
      "store3         900      30  27000\n"
     ]
    }
   ],
   "source": [
    "def main():\n",
    "\n",
    "    print(\"Hello, World!\")\n",
    "\n",
    " \n",
    "\n",
    "if __name__ == '__main__':\n",
    "\n",
    " \n",
    "\n",
    "    main()\n",
    "print(df)"
   ]
  },
  {
   "cell_type": "code",
   "execution_count": 6,
   "id": "16d78668",
   "metadata": {},
   "outputs": [
    {
     "name": "stdout",
     "output_type": "stream",
     "text": [
      "        unit price  number  total\n",
      "store1        1000      25  25000\n",
      "store2         280     120  33600\n",
      "store3         900      30  27000\n"
     ]
    }
   ],
   "source": [
    "df['total']=df['unit price']*df['number']\n",
    "print(df)"
   ]
  },
  {
   "cell_type": "code",
   "execution_count": 9,
   "id": "57cc4a97",
   "metadata": {},
   "outputs": [
    {
     "name": "stdout",
     "output_type": "stream",
     "text": [
      "        unit price  number  total\n",
      "store2         280     120  33600\n",
      "store3         900      30  27000\n"
     ]
    }
   ],
   "source": [
    "df2=df.sort_values(by='total',ascending=False)\n",
    "print(df2.head(2))"
   ]
  }
 ],
 "metadata": {
  "kernelspec": {
   "display_name": "Python 3 (ipykernel)",
   "language": "python",
   "name": "python3"
  },
  "language_info": {
   "codemirror_mode": {
    "name": "ipython",
    "version": 3
   },
   "file_extension": ".py",
   "mimetype": "text/x-python",
   "name": "python",
   "nbconvert_exporter": "python",
   "pygments_lexer": "ipython3",
   "version": "3.9.13"
  }
 },
 "nbformat": 4,
 "nbformat_minor": 5
}
