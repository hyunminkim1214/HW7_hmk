{
 "cells": [
  {
   "cell_type": "code",
   "execution_count": 7,
   "id": "4ac38f7e",
   "metadata": {},
   "outputs": [],
   "source": [
    "import numpy as np\n",
    "Docs=np.array([1,1,0,1,0,1,1,1,1,0,1,0,1,1,0,1,0,0]).reshape(3,6)\n",
    "Query=[1,1,0,0,1,0]"
   ]
  },
  {
   "cell_type": "code",
   "execution_count": 10,
   "id": "f5e236d0",
   "metadata": {},
   "outputs": [],
   "source": [
    "def cossim(d,q):\n",
    "    return np.dot(d,q)/(np.linalg.norm(d)*np.linalg.norm(q))"
   ]
  },
  {
   "cell_type": "code",
   "execution_count": 14,
   "id": "fffdc1a6",
   "metadata": {},
   "outputs": [
    {
     "name": "stdout",
     "output_type": "stream",
     "text": [
      "Hello, World!\n",
      "doc1=0.58\n",
      "doc2=0.87\n",
      "doc3=0.67\n"
     ]
    }
   ],
   "source": [
    "def main():\n",
    "\n",
    "    print(\"Hello, World!\")\n",
    "\n",
    " \n",
    "\n",
    "if __name__ == '__main__':\n",
    "\n",
    " \n",
    "\n",
    "    main()\n",
    "doc1=cossim(Docs[0,:],Query)\n",
    "doc2=cossim(Docs[1,:],Query)\n",
    "doc3=cossim(Docs[2,:],Query)\n",
    "print('doc1={:.2f}'.format(doc1))\n",
    "print('doc2={:.2f}'.format(doc2))\n",
    "print('doc3={:.2f}'.format(doc3))"
   ]
  },
  {
   "cell_type": "code",
   "execution_count": null,
   "id": "8208d009",
   "metadata": {},
   "outputs": [],
   "source": []
  }
 ],
 "metadata": {
  "kernelspec": {
   "display_name": "Python 3 (ipykernel)",
   "language": "python",
   "name": "python3"
  },
  "language_info": {
   "codemirror_mode": {
    "name": "ipython",
    "version": 3
   },
   "file_extension": ".py",
   "mimetype": "text/x-python",
   "name": "python",
   "nbconvert_exporter": "python",
   "pygments_lexer": "ipython3",
   "version": "3.9.13"
  }
 },
 "nbformat": 4,
 "nbformat_minor": 5
}
